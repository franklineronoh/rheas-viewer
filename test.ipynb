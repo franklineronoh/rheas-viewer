{
 "cells": [
  {
   "cell_type": "code",
   "execution_count": 47,
   "metadata": {},
   "outputs": [],
   "source": [
    "import pandas as pd\n",
    "import numpy as np\n",
    "import geopandas as gpd\n",
    "from bokeh.plotting import figure, show\n",
    "from bokeh.models import GeoJSONDataSource, ColumnDataSource, HoverTool\n",
    "from bokeh.palettes import Viridis256\n",
    "from bokeh.models import LinearColorMapper, ColorBar\n",
    "#import streamlit as st\n",
    "#from streamlit_folium import st_folium\n",
    "#import folium\n",
    "#from leaflet import Map, GeoJSON"
   ]
  },
  {
   "cell_type": "code",
   "execution_count": 48,
   "metadata": {},
   "outputs": [],
   "source": [
    "#DATA sets\n",
    "#shapefiles\n",
    "unimodal_shapefile='rheas/gadm36_TZA_LongRain.shp'\n",
    "bimodal_shapefile='rheas/gadm36_TZA_2_Bimodal.shp'\n",
    "country_shapefile='rheas/gadm36_TZA_0.shp'\n",
    "unimodal_csv='rheas/tanzania_tamsat_25km_districts_unimod_dssatTable_2021_2023_100kg.csv'\n",
    "bimodal_csv='rheas/tanzania_tamsat_25km_districts_bimod_dssatTable_2000_2023_100kg.csv'\n"
   ]
  },
  {
   "cell_type": "code",
   "execution_count": 49,
   "metadata": {},
   "outputs": [],
   "source": [
    "def format_df(filename):\n",
    "    df = pd.read_csv(filename)\n",
    "    df['harvest'] = pd.to_datetime(df['harvest'], format='%Y/%m/%d')\n",
    "    df['planting'] = pd.to_datetime(df['planting'], format='%Y/%m/%d')\n",
    "    df['date'] = df['harvest'].dt.strftime(\"%Y\")\n",
    "    df['gwad']=df['gwad']/1000\n",
    "    df = df.rename(columns={df.columns[1]: \"Region\"})\n",
    "    #df['Region'] = df['Region'].str.upper()\n",
    "    return df"
   ]
  },
  {
   "cell_type": "code",
   "execution_count": 50,
   "metadata": {},
   "outputs": [],
   "source": [
    "unimodal_data = format_df(unimodal_csv)"
   ]
  },
  {
   "cell_type": "code",
   "execution_count": 51,
   "metadata": {},
   "outputs": [
    {
     "name": "stdout",
     "output_type": "stream",
     "text": [
      "      id Region   planting    harvest   wsgd   gwad  date\n",
      "0  21665  Nyasa 2023-02-18 2023-06-22  0.166  3.063  2023\n",
      "1  21666  Nyasa 2023-01-22 2023-06-02  0.000  3.297  2023\n",
      "2  21667  Nyasa 2023-02-16 2023-06-22  0.311  3.194  2023\n"
     ]
    }
   ],
   "source": [
    "print(unimodal_data.head(3))"
   ]
  },
  {
   "cell_type": "code",
   "execution_count": 52,
   "metadata": {},
   "outputs": [],
   "source": [
    "# Unimodal season:  October--August (LR)\n",
    "lrStart = [9, 10, 11, 12, 1,2, 3, 4]\n",
    "lrEnd = [2, 3, 4, 5, 6, 7, 8]\n",
    "def LR_metrics(lr, lrStart, lrEnd, season):\n",
    "    lr.loc[(pd.to_datetime(lr['planting']).dt.month.isin(lrStart)) & (pd.to_datetime(lr['harvest']).dt.month.isin(lrEnd)), 'Season'] = season\n",
    "    lr = lr.groupby(['Region', 'date', 'Season'], as_index=False).agg({'gwad': 'mean'})\n",
    "    lr=lr[lr['Season']=='LR']\n",
    "\n",
    "    return lr\n",
    "rh_lr = LR_metrics(unimodal_data, lrStart, lrEnd, \"LR\")  \n",
    "#print(rh_lr.head())"
   ]
  },
  {
   "cell_type": "code",
   "execution_count": 53,
   "metadata": {},
   "outputs": [
    {
     "name": "stdout",
     "output_type": "stream",
     "text": [
      "   Region  date Season      wsgd\n",
      "0       1  2000    OND  0.054800\n",
      "1       1  2001    OND  0.102425\n",
      "2       1  2002    OND  0.000000\n",
      "3       1  2003    OND  0.440075\n",
      "4       1  2004    OND  0.139525\n"
     ]
    }
   ],
   "source": [
    "# bimodal season:  October--August (OND)\n",
    "bimodal_data = format_df(bimodal_csv)\n",
    "ondStart = [9, 10, 11]\n",
    "ondEnd = [1, 2, 3]\n",
    "def OND_metrics(ond, ondStart, ondEnd, season):\n",
    "    ond.loc[(pd.to_datetime(ond['planting']).dt.month.isin(ondStart)) & (pd.to_datetime(ond['harvest']).dt.month.isin(ondEnd)), 'Season'] = season\n",
    "    ond = ond.groupby(['Region', 'date', 'Season'], as_index=False).agg({'wsgd': 'mean'})\n",
    "\n",
    "    return ond\n",
    "\n",
    "rh_ond = OND_metrics(bimodal_data, ondStart, ondEnd, \"OND\")\n",
    "\n",
    "print(rh_ond.head())"
   ]
  },
  {
   "cell_type": "code",
   "execution_count": 55,
   "metadata": {},
   "outputs": [
    {
     "data": {
      "text/html": [
       "<div>\n",
       "<style scoped>\n",
       "    .dataframe tbody tr th:only-of-type {\n",
       "        vertical-align: middle;\n",
       "    }\n",
       "\n",
       "    .dataframe tbody tr th {\n",
       "        vertical-align: top;\n",
       "    }\n",
       "\n",
       "    .dataframe thead th {\n",
       "        text-align: right;\n",
       "    }\n",
       "</style>\n",
       "<table border=\"1\" class=\"dataframe\">\n",
       "  <thead>\n",
       "    <tr style=\"text-align: right;\">\n",
       "      <th></th>\n",
       "      <th>Region</th>\n",
       "      <th>Season</th>\n",
       "      <th>gwad</th>\n",
       "      <th>geometry</th>\n",
       "    </tr>\n",
       "  </thead>\n",
       "  <tbody>\n",
       "    <tr>\n",
       "      <th>0</th>\n",
       "      <td>Bahi</td>\n",
       "      <td>LR</td>\n",
       "      <td>3.783650</td>\n",
       "      <td>POLYGON ((35.71801 -6.62413, 35.71855 -6.62543...</td>\n",
       "    </tr>\n",
       "    <tr>\n",
       "      <th>1</th>\n",
       "      <td>Bahi</td>\n",
       "      <td>LR</td>\n",
       "      <td>3.123037</td>\n",
       "      <td>POLYGON ((35.71801 -6.62413, 35.71855 -6.62543...</td>\n",
       "    </tr>\n",
       "    <tr>\n",
       "      <th>2</th>\n",
       "      <td>Buhigwe</td>\n",
       "      <td>LR</td>\n",
       "      <td>3.725214</td>\n",
       "      <td>POLYGON ((29.80319 -4.84030, 29.80203 -4.83901...</td>\n",
       "    </tr>\n",
       "    <tr>\n",
       "      <th>3</th>\n",
       "      <td>Buhigwe</td>\n",
       "      <td>LR</td>\n",
       "      <td>2.691574</td>\n",
       "      <td>POLYGON ((29.80319 -4.84030, 29.80203 -4.83901...</td>\n",
       "    </tr>\n",
       "    <tr>\n",
       "      <th>4</th>\n",
       "      <td>Chamwino</td>\n",
       "      <td>LR</td>\n",
       "      <td>3.743050</td>\n",
       "      <td>POLYGON ((35.59023 -7.01197, 35.58959 -7.01134...</td>\n",
       "    </tr>\n",
       "  </tbody>\n",
       "</table>\n",
       "</div>"
      ],
      "text/plain": [
       "     Region Season      gwad  \\\n",
       "0      Bahi     LR  3.783650   \n",
       "1      Bahi     LR  3.123037   \n",
       "2   Buhigwe     LR  3.725214   \n",
       "3   Buhigwe     LR  2.691574   \n",
       "4  Chamwino     LR  3.743050   \n",
       "\n",
       "                                            geometry  \n",
       "0  POLYGON ((35.71801 -6.62413, 35.71855 -6.62543...  \n",
       "1  POLYGON ((35.71801 -6.62413, 35.71855 -6.62543...  \n",
       "2  POLYGON ((29.80319 -4.84030, 29.80203 -4.83901...  \n",
       "3  POLYGON ((29.80319 -4.84030, 29.80203 -4.83901...  \n",
       "4  POLYGON ((35.59023 -7.01197, 35.58959 -7.01134...  "
      ]
     },
     "execution_count": 55,
     "metadata": {},
     "output_type": "execute_result"
    }
   ],
   "source": [
    "# Read shapefiles and merge data\n",
    "unimodal_shapefile = gpd.read_file(\"rheas/gadm36_TZA_2_LongRain.shp\")\n",
    "country_shapefile = gpd.read_file(\"rheas/gadm36_TZA_0.shp\")\n",
    "unimodal_shapefile.rename(columns={'NAME_2':'Region'}, inplace=True)\n",
    "unimodal_shapefile = unimodal_shapefile[['Region', 'geometry']]\n",
    "rh_lr = rh_lr[['Region','Season','gwad']]\n",
    "unimodal_merged_data = rh_lr.merge(unimodal_shapefile, on=\"Region\", how='left')\n",
    "unimodal_merged_data.head()"
   ]
  },
  {
   "cell_type": "code",
   "execution_count": 57,
   "metadata": {},
   "outputs": [],
   "source": [
    "# Reproject to the same projection\n",
    "CRS = unimodal_shapefile.crs\n",
    "country_shapefile= country_shapefile.to_crs(crs=CRS)"
   ]
  },
  {
   "cell_type": "code",
   "execution_count": 58,
   "metadata": {},
   "outputs": [
    {
     "ename": "OverflowError",
     "evalue": "Maximum recursion level reached",
     "output_type": "error",
     "traceback": [
      "\u001b[1;31m---------------------------------------------------------------------------\u001b[0m",
      "\u001b[1;31mOverflowError\u001b[0m                             Traceback (most recent call last)",
      "Cell \u001b[1;32mIn[58], line 7\u001b[0m\n\u001b[0;32m      1\u001b[0m \u001b[39m# convert to geojson\u001b[39;00m\n\u001b[0;32m      2\u001b[0m \u001b[39m#unimodal_merged_data.to_file('unimodal_merged.geojson', driver='GeoJSON')\u001b[39;00m\n\u001b[0;32m      3\u001b[0m \u001b[39m#geojson_data =unimodal_merged_data.__geo_interface__\u001b[39;00m\n\u001b[0;32m      4\u001b[0m \u001b[39m#geo_source = unimodal_merged_data.to_json()\u001b[39;00m\n\u001b[0;32m      5\u001b[0m \u001b[39m#country_geo_source = country_shapefile.to_json()\u001b[39;00m\n\u001b[1;32m----> 7\u001b[0m geo_source \u001b[39m=\u001b[39m GeoJSONDataSource(geojson\u001b[39m=\u001b[39munimodal_merged_data\u001b[39m.\u001b[39;49mto_json())\n\u001b[0;32m      8\u001b[0m \u001b[39m#country_geo_source = GeoJSONDataSource(geojson=country_shapefile.to_json())\u001b[39;00m\n\u001b[0;32m      9\u001b[0m \u001b[39m#country_geo_source\u001b[39;00m\n",
      "File \u001b[1;32mc:\\Users\\kasit\\AppData\\Local\\Programs\\Python\\Python310\\lib\\site-packages\\pandas\\core\\generic.py:2650\u001b[0m, in \u001b[0;36mNDFrame.to_json\u001b[1;34m(self, path_or_buf, orient, date_format, double_precision, force_ascii, date_unit, default_handler, lines, compression, index, indent, storage_options)\u001b[0m\n\u001b[0;32m   2647\u001b[0m config\u001b[39m.\u001b[39mis_nonnegative_int(indent)\n\u001b[0;32m   2648\u001b[0m indent \u001b[39m=\u001b[39m indent \u001b[39mor\u001b[39;00m \u001b[39m0\u001b[39m\n\u001b[1;32m-> 2650\u001b[0m \u001b[39mreturn\u001b[39;00m json\u001b[39m.\u001b[39;49mto_json(\n\u001b[0;32m   2651\u001b[0m     path_or_buf\u001b[39m=\u001b[39;49mpath_or_buf,\n\u001b[0;32m   2652\u001b[0m     obj\u001b[39m=\u001b[39;49m\u001b[39mself\u001b[39;49m,\n\u001b[0;32m   2653\u001b[0m     orient\u001b[39m=\u001b[39;49morient,\n\u001b[0;32m   2654\u001b[0m     date_format\u001b[39m=\u001b[39;49mdate_format,\n\u001b[0;32m   2655\u001b[0m     double_precision\u001b[39m=\u001b[39;49mdouble_precision,\n\u001b[0;32m   2656\u001b[0m     force_ascii\u001b[39m=\u001b[39;49mforce_ascii,\n\u001b[0;32m   2657\u001b[0m     date_unit\u001b[39m=\u001b[39;49mdate_unit,\n\u001b[0;32m   2658\u001b[0m     default_handler\u001b[39m=\u001b[39;49mdefault_handler,\n\u001b[0;32m   2659\u001b[0m     lines\u001b[39m=\u001b[39;49mlines,\n\u001b[0;32m   2660\u001b[0m     compression\u001b[39m=\u001b[39;49mcompression,\n\u001b[0;32m   2661\u001b[0m     index\u001b[39m=\u001b[39;49mindex,\n\u001b[0;32m   2662\u001b[0m     indent\u001b[39m=\u001b[39;49mindent,\n\u001b[0;32m   2663\u001b[0m     storage_options\u001b[39m=\u001b[39;49mstorage_options,\n\u001b[0;32m   2664\u001b[0m )\n",
      "File \u001b[1;32mc:\\Users\\kasit\\AppData\\Local\\Programs\\Python\\Python310\\lib\\site-packages\\pandas\\io\\json\\_json.py:171\u001b[0m, in \u001b[0;36mto_json\u001b[1;34m(path_or_buf, obj, orient, date_format, double_precision, force_ascii, date_unit, default_handler, lines, compression, index, indent, storage_options)\u001b[0m\n\u001b[0;32m    158\u001b[0m \u001b[39melse\u001b[39;00m:\n\u001b[0;32m    159\u001b[0m     \u001b[39mraise\u001b[39;00m \u001b[39mNotImplementedError\u001b[39;00m(\u001b[39m\"\u001b[39m\u001b[39m'\u001b[39m\u001b[39mobj\u001b[39m\u001b[39m'\u001b[39m\u001b[39m should be a Series or a DataFrame\u001b[39m\u001b[39m\"\u001b[39m)\n\u001b[0;32m    161\u001b[0m s \u001b[39m=\u001b[39m writer(\n\u001b[0;32m    162\u001b[0m     obj,\n\u001b[0;32m    163\u001b[0m     orient\u001b[39m=\u001b[39;49morient,\n\u001b[0;32m    164\u001b[0m     date_format\u001b[39m=\u001b[39;49mdate_format,\n\u001b[0;32m    165\u001b[0m     double_precision\u001b[39m=\u001b[39;49mdouble_precision,\n\u001b[0;32m    166\u001b[0m     ensure_ascii\u001b[39m=\u001b[39;49mforce_ascii,\n\u001b[0;32m    167\u001b[0m     date_unit\u001b[39m=\u001b[39;49mdate_unit,\n\u001b[0;32m    168\u001b[0m     default_handler\u001b[39m=\u001b[39;49mdefault_handler,\n\u001b[0;32m    169\u001b[0m     index\u001b[39m=\u001b[39;49mindex,\n\u001b[0;32m    170\u001b[0m     indent\u001b[39m=\u001b[39;49mindent,\n\u001b[1;32m--> 171\u001b[0m )\u001b[39m.\u001b[39;49mwrite()\n\u001b[0;32m    173\u001b[0m \u001b[39mif\u001b[39;00m lines:\n\u001b[0;32m    174\u001b[0m     s \u001b[39m=\u001b[39m convert_to_line_delimits(s)\n",
      "File \u001b[1;32mc:\\Users\\kasit\\AppData\\Local\\Programs\\Python\\Python310\\lib\\site-packages\\pandas\\io\\json\\_json.py:224\u001b[0m, in \u001b[0;36mWriter.write\u001b[1;34m(self)\u001b[0m\n\u001b[0;32m    222\u001b[0m \u001b[39mdef\u001b[39;00m \u001b[39mwrite\u001b[39m(\u001b[39mself\u001b[39m) \u001b[39m-\u001b[39m\u001b[39m>\u001b[39m \u001b[39mstr\u001b[39m:\n\u001b[0;32m    223\u001b[0m     iso_dates \u001b[39m=\u001b[39m \u001b[39mself\u001b[39m\u001b[39m.\u001b[39mdate_format \u001b[39m==\u001b[39m \u001b[39m\"\u001b[39m\u001b[39miso\u001b[39m\u001b[39m\"\u001b[39m\n\u001b[1;32m--> 224\u001b[0m     \u001b[39mreturn\u001b[39;00m dumps(\n\u001b[0;32m    225\u001b[0m         \u001b[39mself\u001b[39;49m\u001b[39m.\u001b[39;49mobj_to_write,\n\u001b[0;32m    226\u001b[0m         orient\u001b[39m=\u001b[39;49m\u001b[39mself\u001b[39;49m\u001b[39m.\u001b[39;49morient,\n\u001b[0;32m    227\u001b[0m         double_precision\u001b[39m=\u001b[39;49m\u001b[39mself\u001b[39;49m\u001b[39m.\u001b[39;49mdouble_precision,\n\u001b[0;32m    228\u001b[0m         ensure_ascii\u001b[39m=\u001b[39;49m\u001b[39mself\u001b[39;49m\u001b[39m.\u001b[39;49mensure_ascii,\n\u001b[0;32m    229\u001b[0m         date_unit\u001b[39m=\u001b[39;49m\u001b[39mself\u001b[39;49m\u001b[39m.\u001b[39;49mdate_unit,\n\u001b[0;32m    230\u001b[0m         iso_dates\u001b[39m=\u001b[39;49miso_dates,\n\u001b[0;32m    231\u001b[0m         default_handler\u001b[39m=\u001b[39;49m\u001b[39mself\u001b[39;49m\u001b[39m.\u001b[39;49mdefault_handler,\n\u001b[0;32m    232\u001b[0m         indent\u001b[39m=\u001b[39;49m\u001b[39mself\u001b[39;49m\u001b[39m.\u001b[39;49mindent,\n\u001b[0;32m    233\u001b[0m     )\n",
      "\u001b[1;31mOverflowError\u001b[0m: Maximum recursion level reached"
     ]
    }
   ],
   "source": [
    "# convert to geojson\n",
    "#unimodal_merged_data.to_file('unimodal_merged.geojson', driver='GeoJSON')\n",
    "#geojson_data =unimodal_merged_data.__geo_interface__\n",
    "#geo_source = unimodal_merged_data.to_json()\n",
    "#country_geo_source = country_shapefile.to_json()\n",
    "\n",
    "geo_source = GeoJSONDataSource(geojson=unimodal_merged_data.to_json())\n",
    "#country_geo_source = GeoJSONDataSource(geojson=country_shapefile.to_json())\n",
    "#country_geo_source"
   ]
  },
  {
   "cell_type": "code",
   "execution_count": 81,
   "metadata": {},
   "outputs": [
    {
     "ename": "NameError",
     "evalue": "name 'gwad' is not defined",
     "output_type": "error",
     "traceback": [
      "\u001b[1;31m---------------------------------------------------------------------------\u001b[0m",
      "\u001b[1;31mNameError\u001b[0m                                 Traceback (most recent call last)",
      "Cell \u001b[1;32mIn[81], line 1\u001b[0m\n\u001b[1;32m----> 1\u001b[0m color_mapper \u001b[39m=\u001b[39m LinearColorMapper(palette\u001b[39m=\u001b[39mViridis256, low\u001b[39m=\u001b[39m\u001b[39mmin\u001b[39m(unimodal_merged_data[gwad]), high\u001b[39m=\u001b[39m\u001b[39mmax\u001b[39m(merged_data[gwad]))\n",
      "\u001b[1;31mNameError\u001b[0m: name 'gwad' is not defined"
     ]
    }
   ],
   "source": [
    "color_mapper = LinearColorMapper(palette=Viridis256, low=min(unimodal_merged_data[gwad]), high=max(merged_data[gwad]))"
   ]
  },
  {
   "cell_type": "code",
   "execution_count": null,
   "metadata": {},
   "outputs": [],
   "source": [
    "p1 = figure(title=Yield Data by District,\n",
    "           plot_width=650, plot_height=600)\n",
    "\n",
    "p1.multi_line(xs,ys, source=country_geo_source,\n",
    "            line_color=black, line_width=0.5)\n",
    "\n",
    "p1.patches(xs,ys, source=geo_source,\n",
    "          fill_color={field: gwad, transform: color_mapper},\n",
    "          fill_alpha=0.7, line_color=black, line_width=0.5)\n",
    "\n",
    "hover = HoverTool(tooltips=[(District, @NAME_2), (gwad, @gwad)])\n",
    "p1.add_tools(hover)\n",
    "\n",
    "color_bar = ColorBar(color_mapper=color_mapper, label_standoff=8, width=20, height=300,\n",
    "                     border_line_color=None, location=(0,0), orientation=vertical)\n",
    "p1.add_layout(color_bar, right)"
   ]
  },
  {
   "cell_type": "code",
   "execution_count": null,
   "metadata": {},
   "outputs": [],
   "source": [
    "color_mapper1 = LinearColorMapper(palette=Viridis256, low=min(merged_data[wsgd]), high=max(merged_data[wsgd]))\n",
    "\n",
    "p2 = figure(title=Yield Data by District,\n",
    "           plot_width=650, plot_height=600)\n",
    "\n",
    "p2.multi_line(xs,ys, source=country_geo_source,\n",
    "            line_color=black, line_width=0.5)\n",
    "\n",
    "p2.patches(xs,ys, source=geo_source,\n",
    "          fill_color={field: wsgd, transform: color_mapper1},\n",
    "          fill_alpha=0.7, line_color=black, line_width=0.5)\n",
    "\n",
    "hover = HoverTool(tooltips=[(District, @NAME_2), (wsgd, @wsgd)])\n",
    "p2.add_tools(hover)\n",
    "\n",
    "color_bar = ColorBar(color_mapper=color_mapper1, label_standoff=8, width=20, height=300,\n",
    "                     border_line_color=None, location=(0,0), orientation=vertical)\n",
    "p2.add_layout(color_bar, right)"
   ]
  },
  {
   "cell_type": "code",
   "execution_count": null,
   "metadata": {},
   "outputs": [],
   "source": [
    "from bokeh.layouts import column\n",
    "layout = column(p1, p2)\n",
    "#show(layout)"
   ]
  },
  {
   "cell_type": "code",
   "execution_count": null,
   "metadata": {},
   "outputs": [],
   "source": [
    "from bokeh.io import output_file, show\n",
    "output_file(plot.html)\n",
    "show(layout)"
   ]
  },
  {
   "cell_type": "code",
   "execution_count": null,
   "metadata": {},
   "outputs": [],
   "source": [
    "#from bokeh.io import save\n",
    "\n",
    "# specify the output file name and location\n",
    "#save(p, filename=yield_map.html, title=Yield Data Map)"
   ]
  }
 ],
 "metadata": {
  "kernelspec": {
   "display_name": "Python 3",
   "language": "python",
   "name": "python3"
  },
  "language_info": {
   "codemirror_mode": {
    "name": "ipython",
    "version": 3
   },
   "file_extension": ".py",
   "mimetype": "text/x-python",
   "name": "python",
   "nbconvert_exporter": "python",
   "pygments_lexer": "ipython3",
   "version": "3.10.5"
  },
  "orig_nbformat": 4,
  "vscode": {
   "interpreter": {
    "hash": "f745412fe046abefa732567d83acd42b32594d10d0c166ca5878f9c42d7fed86"
   }
  }
 },
 "nbformat": 4,
 "nbformat_minor": 2
}
